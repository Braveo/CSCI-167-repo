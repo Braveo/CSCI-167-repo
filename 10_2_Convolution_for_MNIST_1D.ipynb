{
  "cells": [
    {
      "cell_type": "markdown",
      "metadata": {
        "colab_type": "text",
        "id": "view-in-github"
      },
      "source": [
        "<a href=\"https://colab.research.google.com/github/udlbook/udlbook/blob/main/Notebooks/Chap10/10_2_Convolution_for_MNIST_1D.ipynb\" target=\"_parent\"><img src=\"https://colab.research.google.com/assets/colab-badge.svg\" alt=\"Open In Colab\"/></a>"
      ]
    },
    {
      "cell_type": "markdown",
      "metadata": {
        "id": "t9vk9Elugvmi"
      },
      "source": [
        "# **Notebook 10.2: Convolution for MNIST-1D**\n",
        "\n",
        "This notebook investigates a 1D convolutional network for MNIST-1D as in figure 10.7 and 10.8a.\n",
        "\n",
        "Work through the cells below, running each cell in turn. In various places you will see the words \"TO DO\". Follow the instructions at these places and make predictions about what is going to happen or write code to complete the functions.\n",
        "\n",
        "Contact me at udlbookmail@gmail.com if you find any mistakes or have any suggestions.\n",
        "\n"
      ]
    },
    {
      "cell_type": "code",
      "execution_count": 1,
      "metadata": {
        "id": "D5yLObtZCi9J"
      },
      "outputs": [],
      "source": [
        "# Run this if you're in a Colab to install MNIST 1D repository\n",
        "# !pip install git+https://github.com/greydanus/mnist1d\n",
        "\n",
        "# Run this as well if you do not have this package installed:\n",
        "# !pip install pytorch"
      ]
    },
    {
      "cell_type": "code",
      "execution_count": 2,
      "metadata": {
        "id": "YrXWAH7sUWvU"
      },
      "outputs": [],
      "source": [
        "import numpy as np\n",
        "import os\n",
        "import torch, torch.nn as nn\n",
        "from torch.utils.data import TensorDataset, DataLoader\n",
        "from torch.optim.lr_scheduler import StepLR\n",
        "import matplotlib.pyplot as plt\n",
        "import mnist1d\n",
        "import random"
      ]
    },
    {
      "cell_type": "code",
      "execution_count": 3,
      "metadata": {
        "id": "twI72ZCrCt5z"
      },
      "outputs": [
        {
          "name": "stdout",
          "output_type": "stream",
          "text": [
            "Successfully loaded data from ./mnist1d_data.pkl\n",
            "Examples in training set: 4000\n",
            "Examples in test set: 1000\n",
            "Length of each example: 40\n"
          ]
        }
      ],
      "source": [
        "args = mnist1d.data.get_dataset_args()\n",
        "data = mnist1d.data.get_dataset(args, path='./mnist1d_data.pkl', download=False, regenerate=False)\n",
        "\n",
        "# The training and test input and outputs are in\n",
        "# data['x'], data['y'], data['x_test'], and data['y_test']\n",
        "print(\"Examples in training set: {}\".format(len(data['y'])))\n",
        "print(\"Examples in test set: {}\".format(len(data['y_test'])))\n",
        "print(\"Length of each example: {}\".format(data['x'].shape[-1]))"
      ]
    },
    {
      "cell_type": "code",
      "execution_count": 4,
      "metadata": {
        "id": "8bKADvLHbiV5"
      },
      "outputs": [
        {
          "name": "stdout",
          "output_type": "stream",
          "text": [
            "Train data: 4000 examples (columns), each of which has 40 dimensions (rows)\n",
            "Validation data: 1000 examples (columns), each of which has 40 dimensions (rows)\n"
          ]
        }
      ],
      "source": [
        "# Load in the data\n",
        "train_data_x = data['x'].transpose()\n",
        "train_data_y = data['y']\n",
        "val_data_x = data['x_test'].transpose()\n",
        "val_data_y = data['y_test']\n",
        "# Print out sizes\n",
        "print(\"Train data: %d examples (columns), each of which has %d dimensions (rows)\"%((train_data_x.shape[1],train_data_x.shape[0])))\n",
        "print(\"Validation data: %d examples (columns), each of which has %d dimensions (rows)\"%((val_data_x.shape[1],val_data_x.shape[0])))"
      ]
    },
    {
      "cell_type": "markdown",
      "metadata": {
        "id": "_sFvRDGrl4qe"
      },
      "source": [
        "Define the network"
      ]
    },
    {
      "cell_type": "code",
      "execution_count": 5,
      "metadata": {
        "id": "FslroPJJffrh"
      },
      "outputs": [],
      "source": [
        "# There are 40 input dimensions and 10 output dimensions for this data\n",
        "# The inputs correspond to the 40 offsets in the MNIST1D template.\n",
        "D_i = 40\n",
        "# The outputs correspond to the 10 digits\n",
        "D_o = 10\n",
        "\n",
        "\n",
        "# TODO✅ Create a model with the following layers\n",
        "# 1. Convolutional layer, (input=length 40 and 1 channel, kernel size 3, stride 2, padding=\"valid\", 15 output channels )\n",
        "# 2. ReLU\n",
        "# 3. Convolutional layer, (input=length 19 and 15 channels, kernel size 3, stride 2, padding=\"valid\", 15 output channels )\n",
        "# 4. ReLU\n",
        "# 5. Convolutional layer, (input=length 9 and 15 channels, kernel size 3, stride 2, padding=\"valid\", 15 output channels)\n",
        "# 6. ReLU\n",
        "# 7. Flatten (converts 4x15) to length 60\n",
        "# 8. Linear layer (input size = 60, output size = 10)\n",
        "# References:\n",
        "# https://pytorch.org/docs/1.13/generated/torch.nn.Conv1d.html?highlight=conv1d#torch.nn.Conv1d\n",
        "# https://pytorch.org/docs/stable/generated/torch.nn.Flatten.html\n",
        "# https://pytorch.org/docs/1.13/generated/torch.nn.Linear.html?highlight=linear#torch.nn.Linear\n",
        "\n",
        "# NOTE THAT THE CONVOLUTIONAL LAYERS NEED TO TAKE THE NUMBER OF INPUT CHANNELS AS A PARAMETER\n",
        "# AND NOT THE INPUT SIZE.\n",
        "\n",
        "# Replace the following function:\n",
        "# model = nn.Sequential(\n",
        "# nn.Flatten(),\n",
        "# nn.Linear(40, 100),\n",
        "# nn.ReLU(),\n",
        "# nn.Linear(100, 100),\n",
        "# nn.ReLU(),\n",
        "# nn.Linear(100, 10))\n",
        "\n",
        "model = nn.Sequential(\n",
        "    nn.Conv1d(in_channels=1, out_channels=15, kernel_size=3, stride=2, padding=\"valid\"),\n",
        "    nn.ReLU(),\n",
        "    nn.Conv1d(in_channels=15, out_channels=15, kernel_size=3, stride=2, padding=\"valid\"),\n",
        "    nn.ReLU(),\n",
        "    nn.Conv1d(in_channels=15, out_channels=15, kernel_size=3, stride=2, padding=\"valid\"),\n",
        "    nn.ReLU(),\n",
        "    nn.Flatten(),\n",
        "    nn.Linear(in_features=60, out_features=10)\n",
        ")\n",
        "\n"
      ]
    },
    {
      "cell_type": "code",
      "execution_count": 6,
      "metadata": {
        "id": "YgLaex1pfhqz"
      },
      "outputs": [],
      "source": [
        "# He initialization of weights\n",
        "def weights_init(layer_in):\n",
        "  if isinstance(layer_in, nn.Linear):\n",
        "    nn.init.kaiming_uniform_(layer_in.weight)\n",
        "    layer_in.bias.data.fill_(0.0)"
      ]
    },
    {
      "cell_type": "code",
      "execution_count": 7,
      "metadata": {
        "id": "NYw8I_3mmX5c"
      },
      "outputs": [
        {
          "name": "stdout",
          "output_type": "stream",
          "text": [
            "Epoch     0, train loss 1.819255, train error 71.53,  val loss 1.826534, percent error 74.50\n",
            "Epoch     1, train loss 1.540612, train error 57.28,  val loss 1.551777, percent error 58.70\n",
            "Epoch     2, train loss 1.374423, train error 56.65,  val loss 1.379486, percent error 58.20\n",
            "Epoch     3, train loss 1.214649, train error 49.58,  val loss 1.240618, percent error 52.70\n",
            "Epoch     4, train loss 1.144867, train error 47.30,  val loss 1.154199, percent error 49.00\n",
            "Epoch     5, train loss 1.149517, train error 46.60,  val loss 1.174016, percent error 49.50\n",
            "Epoch     6, train loss 1.087694, train error 42.88,  val loss 1.101884, percent error 44.70\n",
            "Epoch     7, train loss 1.087531, train error 41.15,  val loss 1.121379, percent error 44.90\n",
            "Epoch     8, train loss 0.845398, train error 33.68,  val loss 0.886344, percent error 35.70\n",
            "Epoch     9, train loss 0.749691, train error 29.25,  val loss 0.806012, percent error 33.10\n",
            "Epoch    10, train loss 0.678785, train error 26.18,  val loss 0.774437, percent error 29.90\n",
            "Epoch    11, train loss 0.617844, train error 23.97,  val loss 0.700192, percent error 26.40\n",
            "Epoch    12, train loss 0.596091, train error 22.65,  val loss 0.705177, percent error 28.40\n",
            "Epoch    13, train loss 0.477130, train error 17.95,  val loss 0.585542, percent error 21.50\n",
            "Epoch    14, train loss 0.400067, train error 14.53,  val loss 0.520807, percent error 19.10\n",
            "Epoch    15, train loss 0.434445, train error 16.12,  val loss 0.555931, percent error 20.40\n",
            "Epoch    16, train loss 0.304585, train error 11.20,  val loss 0.434924, percent error 15.40\n",
            "Epoch    17, train loss 0.269201, train error 9.72,  val loss 0.441706, percent error 13.90\n",
            "Epoch    18, train loss 0.277064, train error 10.00,  val loss 0.436229, percent error 13.90\n",
            "Epoch    19, train loss 0.315977, train error 12.00,  val loss 0.521532, percent error 16.80\n",
            "Epoch    20, train loss 0.163267, train error 5.47,  val loss 0.357855, percent error 11.30\n",
            "Epoch    21, train loss 0.176150, train error 6.88,  val loss 0.376560, percent error 11.80\n",
            "Epoch    22, train loss 0.163613, train error 5.82,  val loss 0.377238, percent error 10.60\n",
            "Epoch    23, train loss 0.141227, train error 4.72,  val loss 0.359900, percent error 10.40\n",
            "Epoch    24, train loss 0.158443, train error 6.03,  val loss 0.379480, percent error 12.00\n",
            "Epoch    25, train loss 0.145435, train error 5.15,  val loss 0.421231, percent error 12.70\n",
            "Epoch    26, train loss 0.118435, train error 3.57,  val loss 0.369915, percent error 9.80\n",
            "Epoch    27, train loss 0.113728, train error 3.68,  val loss 0.379096, percent error 10.30\n",
            "Epoch    28, train loss 0.128505, train error 4.53,  val loss 0.413432, percent error 11.40\n",
            "Epoch    29, train loss 0.122811, train error 4.25,  val loss 0.402811, percent error 11.20\n",
            "Epoch    30, train loss 0.108459, train error 3.55,  val loss 0.399652, percent error 11.30\n",
            "Epoch    31, train loss 0.101419, train error 3.18,  val loss 0.363614, percent error 10.90\n",
            "Epoch    32, train loss 0.132031, train error 4.55,  val loss 0.376170, percent error 10.90\n",
            "Epoch    33, train loss 0.109052, train error 3.80,  val loss 0.381664, percent error 11.20\n",
            "Epoch    34, train loss 0.088507, train error 2.82,  val loss 0.382703, percent error 10.10\n",
            "Epoch    35, train loss 0.087899, train error 2.85,  val loss 0.396745, percent error 11.00\n",
            "Epoch    36, train loss 0.116272, train error 4.25,  val loss 0.436972, percent error 11.90\n",
            "Epoch    37, train loss 0.104614, train error 3.88,  val loss 0.467987, percent error 10.80\n",
            "Epoch    38, train loss 0.077558, train error 2.47,  val loss 0.396682, percent error 10.50\n",
            "Epoch    39, train loss 0.068329, train error 2.03,  val loss 0.405541, percent error 10.10\n",
            "Epoch    40, train loss 0.056319, train error 1.53,  val loss 0.419005, percent error 10.30\n",
            "Epoch    41, train loss 0.056620, train error 1.50,  val loss 0.393807, percent error 9.70\n",
            "Epoch    42, train loss 0.056464, train error 1.53,  val loss 0.416975, percent error 9.70\n",
            "Epoch    43, train loss 0.053462, train error 1.45,  val loss 0.416939, percent error 10.80\n",
            "Epoch    44, train loss 0.054943, train error 1.50,  val loss 0.420231, percent error 9.60\n",
            "Epoch    45, train loss 0.048920, train error 1.18,  val loss 0.421658, percent error 9.70\n",
            "Epoch    46, train loss 0.052367, train error 1.35,  val loss 0.427477, percent error 10.10\n",
            "Epoch    47, train loss 0.045768, train error 1.10,  val loss 0.434439, percent error 10.20\n",
            "Epoch    48, train loss 0.044444, train error 0.95,  val loss 0.437225, percent error 9.70\n",
            "Epoch    49, train loss 0.045134, train error 1.15,  val loss 0.425683, percent error 10.40\n",
            "Epoch    50, train loss 0.044140, train error 1.03,  val loss 0.438483, percent error 10.30\n",
            "Epoch    51, train loss 0.041470, train error 0.90,  val loss 0.438727, percent error 10.10\n",
            "Epoch    52, train loss 0.041207, train error 0.97,  val loss 0.457767, percent error 10.00\n",
            "Epoch    53, train loss 0.041666, train error 0.95,  val loss 0.456766, percent error 9.90\n",
            "Epoch    54, train loss 0.041275, train error 0.88,  val loss 0.453863, percent error 10.10\n",
            "Epoch    55, train loss 0.036217, train error 0.75,  val loss 0.452738, percent error 10.30\n",
            "Epoch    56, train loss 0.035952, train error 0.65,  val loss 0.459155, percent error 9.90\n",
            "Epoch    57, train loss 0.035756, train error 0.68,  val loss 0.463037, percent error 10.00\n",
            "Epoch    58, train loss 0.037323, train error 0.88,  val loss 0.461388, percent error 10.20\n",
            "Epoch    59, train loss 0.035636, train error 0.68,  val loss 0.460830, percent error 10.50\n",
            "Epoch    60, train loss 0.031879, train error 0.50,  val loss 0.470960, percent error 10.00\n",
            "Epoch    61, train loss 0.031166, train error 0.45,  val loss 0.471043, percent error 10.20\n",
            "Epoch    62, train loss 0.031918, train error 0.53,  val loss 0.469893, percent error 10.40\n",
            "Epoch    63, train loss 0.031105, train error 0.43,  val loss 0.473254, percent error 10.50\n",
            "Epoch    64, train loss 0.029578, train error 0.43,  val loss 0.479804, percent error 10.40\n",
            "Epoch    65, train loss 0.029840, train error 0.43,  val loss 0.485581, percent error 10.60\n",
            "Epoch    66, train loss 0.030224, train error 0.43,  val loss 0.484385, percent error 10.30\n",
            "Epoch    67, train loss 0.029518, train error 0.35,  val loss 0.488774, percent error 10.50\n",
            "Epoch    68, train loss 0.028461, train error 0.35,  val loss 0.490979, percent error 10.50\n",
            "Epoch    69, train loss 0.028266, train error 0.32,  val loss 0.491343, percent error 10.60\n",
            "Epoch    70, train loss 0.029026, train error 0.40,  val loss 0.494545, percent error 10.00\n",
            "Epoch    71, train loss 0.028892, train error 0.38,  val loss 0.503956, percent error 10.50\n",
            "Epoch    72, train loss 0.029863, train error 0.47,  val loss 0.503412, percent error 10.40\n",
            "Epoch    73, train loss 0.026824, train error 0.30,  val loss 0.495079, percent error 10.30\n",
            "Epoch    74, train loss 0.028013, train error 0.45,  val loss 0.490354, percent error 10.70\n",
            "Epoch    75, train loss 0.026329, train error 0.32,  val loss 0.498616, percent error 10.80\n",
            "Epoch    76, train loss 0.026223, train error 0.30,  val loss 0.510332, percent error 10.50\n",
            "Epoch    77, train loss 0.026364, train error 0.25,  val loss 0.501925, percent error 10.30\n",
            "Epoch    78, train loss 0.025483, train error 0.30,  val loss 0.509124, percent error 10.70\n",
            "Epoch    79, train loss 0.025481, train error 0.28,  val loss 0.507241, percent error 10.70\n",
            "Epoch    80, train loss 0.025215, train error 0.28,  val loss 0.512343, percent error 10.20\n",
            "Epoch    81, train loss 0.024547, train error 0.25,  val loss 0.511892, percent error 10.30\n",
            "Epoch    82, train loss 0.024375, train error 0.28,  val loss 0.511262, percent error 10.60\n",
            "Epoch    83, train loss 0.024371, train error 0.22,  val loss 0.512935, percent error 10.40\n",
            "Epoch    84, train loss 0.024064, train error 0.28,  val loss 0.513039, percent error 10.70\n",
            "Epoch    85, train loss 0.024267, train error 0.28,  val loss 0.517678, percent error 10.30\n",
            "Epoch    86, train loss 0.023926, train error 0.28,  val loss 0.511538, percent error 10.60\n",
            "Epoch    87, train loss 0.023877, train error 0.22,  val loss 0.519036, percent error 10.40\n",
            "Epoch    88, train loss 0.023719, train error 0.25,  val loss 0.517295, percent error 10.20\n",
            "Epoch    89, train loss 0.023541, train error 0.20,  val loss 0.516541, percent error 10.60\n",
            "Epoch    90, train loss 0.023344, train error 0.25,  val loss 0.516277, percent error 10.70\n",
            "Epoch    91, train loss 0.023544, train error 0.20,  val loss 0.519844, percent error 10.60\n",
            "Epoch    92, train loss 0.023165, train error 0.22,  val loss 0.519360, percent error 10.70\n",
            "Epoch    93, train loss 0.023011, train error 0.22,  val loss 0.524835, percent error 10.60\n",
            "Epoch    94, train loss 0.023154, train error 0.20,  val loss 0.527369, percent error 10.70\n",
            "Epoch    95, train loss 0.022742, train error 0.20,  val loss 0.520445, percent error 10.80\n",
            "Epoch    96, train loss 0.023884, train error 0.25,  val loss 0.526235, percent error 10.80\n",
            "Epoch    97, train loss 0.022471, train error 0.15,  val loss 0.523767, percent error 10.80\n",
            "Epoch    98, train loss 0.022415, train error 0.20,  val loss 0.530886, percent error 10.40\n",
            "Epoch    99, train loss 0.022189, train error 0.22,  val loss 0.526752, percent error 10.80\n"
          ]
        },
        {
          "data": {
            "image/png": "[encoded data removed]",
            "text/plain": [
              "<Figure size 640x480 with 1 Axes>"
            ]
          },
          "metadata": {},
          "output_type": "display_data"
        }
      ],
      "source": [
        "# choose cross entropy loss function (equation 5.24 in the loss notes)\n",
        "loss_function = nn.CrossEntropyLoss()\n",
        "# construct SGD optimizer and initialize learning rate and momentum\n",
        "optimizer = torch.optim.SGD(model.parameters(), lr = 0.05, momentum=0.9)\n",
        "# object that decreases learning rate by half every 20 epochs\n",
        "scheduler = StepLR(optimizer, step_size=20, gamma=0.5)\n",
        "# create 100 dummy data points and store in data loader class\n",
        "x_train = torch.tensor(train_data_x.transpose().astype('float32'))\n",
        "y_train = torch.tensor(train_data_y.astype('long')).long()\n",
        "x_val= torch.tensor(val_data_x.transpose().astype('float32'))\n",
        "y_val = torch.tensor(val_data_y.astype('long')).long()\n",
        "\n",
        "# load the data into a class that creates the batches\n",
        "data_loader = DataLoader(TensorDataset(x_train,y_train), batch_size=100, shuffle=True, worker_init_fn=np.random.seed(1))\n",
        "\n",
        "# Initialize model weights\n",
        "model.apply(weights_init)\n",
        "\n",
        "# loop over the dataset n_epoch times\n",
        "n_epoch = 100\n",
        "# store the loss and the % correct at each epoch\n",
        "losses_train = np.zeros((n_epoch))\n",
        "errors_train = np.zeros((n_epoch))\n",
        "losses_val = np.zeros((n_epoch))\n",
        "errors_val = np.zeros((n_epoch))\n",
        "\n",
        "for epoch in range(n_epoch):\n",
        "  # loop over batches\n",
        "  for i, data in enumerate(data_loader):\n",
        "    # retrieve inputs and labels for this batch\n",
        "    x_batch, y_batch = data\n",
        "    # zero the parameter gradients\n",
        "    optimizer.zero_grad()\n",
        "    # forward pass -- calculate model output\n",
        "    pred = model(x_batch[:,None,:])\n",
        "    # compute the loss\n",
        "    loss = loss_function(pred, y_batch)\n",
        "    # backward pass\n",
        "    loss.backward()\n",
        "    # SGD update\n",
        "    optimizer.step()\n",
        "\n",
        "  # Run whole dataset to get statistics -- normally wouldn't do this\n",
        "  pred_train = model(x_train[:,None,:])\n",
        "  pred_val = model(x_val[:,None,:])\n",
        "  _, predicted_train_class = torch.max(pred_train.data, 1)\n",
        "  _, predicted_val_class = torch.max(pred_val.data, 1)\n",
        "  errors_train[epoch] = 100 - 100 * (predicted_train_class == y_train).float().sum() / len(y_train)\n",
        "  errors_val[epoch]= 100 - 100 * (predicted_val_class == y_val).float().sum() / len(y_val)\n",
        "  losses_train[epoch] = loss_function(pred_train, y_train).item()\n",
        "  losses_val[epoch]= loss_function(pred_val, y_val).item()\n",
        "  print(f'Epoch {epoch:5d}, train loss {losses_train[epoch]:.6f}, train error {errors_train[epoch]:3.2f},  val loss {losses_val[epoch]:.6f}, percent error {errors_val[epoch]:3.2f}')\n",
        "\n",
        "  # tell scheduler to consider updating learning rate\n",
        "  scheduler.step()\n",
        "\n",
        "# Plot the results\n",
        "fig, ax = plt.subplots()\n",
        "ax.plot(errors_train,'r-',label='train')\n",
        "ax.plot(errors_val,'b-',label='validation')\n",
        "ax.set_ylim(0,100); ax.set_xlim(0,n_epoch)\n",
        "ax.set_xlabel('Epoch'); ax.set_ylabel('Error')\n",
        "ax.set_title('Part I: Validation Result %3.2f'%(errors_val[-1]))\n",
        "ax.legend()\n",
        "plt.show()"
      ]
    }
  ],
  "metadata": {
    "colab": {
      "authorship_tag": "ABX9TyNb46PJB/CC1pcHGfjpUUZg",
      "include_colab_link": true,
      "provenance": []
    },
    "kernelspec": {
      "display_name": ".venv",
      "language": "python",
      "name": "python3"
    },
    "language_info": {
      "codemirror_mode": {
        "name": "ipython",
        "version": 3
      },
      "file_extension": ".py",
      "mimetype": "text/x-python",
      "name": "python",
      "nbconvert_exporter": "python",
      "pygments_lexer": "ipython3",
      "version": "3.12.1"
    }
  },
  "nbformat": 4,
  "nbformat_minor": 0
}
