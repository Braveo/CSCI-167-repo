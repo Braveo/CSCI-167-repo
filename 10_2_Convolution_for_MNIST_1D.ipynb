{
  "cells": [
    {
      "cell_type": "markdown",
      "metadata": {
        "colab_type": "text",
        "id": "view-in-github"
      },
      "source": [
        "<a href=\"https://colab.research.google.com/github/udlbook/udlbook/blob/main/Notebooks/Chap10/10_2_Convolution_for_MNIST_1D.ipynb\" target=\"_parent\"><img src=\"https://colab.research.google.com/assets/colab-badge.svg\" alt=\"Open In Colab\"/></a>"
      ]
    },
    {
      "cell_type": "markdown",
      "metadata": {
        "id": "t9vk9Elugvmi"
      },
      "source": [
        "# **Notebook 10.2: Convolution for MNIST-1D**\n",
        "\n",
        "This notebook investigates a 1D convolutional network for MNIST-1D as in figure 10.7 and 10.8a.\n",
        "\n",
        "Work through the cells below, running each cell in turn. In various places you will see the words \"TO DO\". Follow the instructions at these places and make predictions about what is going to happen or write code to complete the functions.\n",
        "\n",
        "Contact me at udlbookmail@gmail.com if you find any mistakes or have any suggestions.\n",
        "\n"
      ]
    },
    {
      "cell_type": "code",
      "execution_count": 1,
      "metadata": {
        "id": "D5yLObtZCi9J"
      },
      "outputs": [],
      "source": [
        "# Run this if you're in a Colab to install MNIST 1D repository\n",
        "# !pip install git+https://github.com/greydanus/mnist1d\n",
        "\n",
        "# Run this as well if you do not have this package installed:\n",
        "# !pip install pytorch"
      ]
    },
    {
      "cell_type": "code",
      "execution_count": 2,
      "metadata": {
        "id": "YrXWAH7sUWvU"
      },
      "outputs": [],
      "source": [
        "import numpy as np\n",
        "import os\n",
        "import torch, torch.nn as nn\n",
        "from torch.utils.data import TensorDataset, DataLoader\n",
        "from torch.optim.lr_scheduler import StepLR\n",
        "import matplotlib.pyplot as plt\n",
        "import mnist1d\n",
        "import random"
      ]
    },
    {
      "cell_type": "code",
      "execution_count": 3,
      "metadata": {
        "id": "twI72ZCrCt5z"
      },
      "outputs": [
        {
          "name": "stdout",
          "output_type": "stream",
          "text": [
            "Successfully loaded data from ./mnist1d_data.pkl\n",
            "Examples in training set: 4000\n",
            "Examples in test set: 1000\n",
            "Length of each example: 40\n"
          ]
        }
      ],
      "source": [
        "args = mnist1d.data.get_dataset_args()\n",
        "data = mnist1d.data.get_dataset(args, path='./mnist1d_data.pkl', download=False, regenerate=False)\n",
        "\n",
        "# The training and test input and outputs are in\n",
        "# data['x'], data['y'], data['x_test'], and data['y_test']\n",
        "print(\"Examples in training set: {}\".format(len(data['y'])))\n",
        "print(\"Examples in test set: {}\".format(len(data['y_test'])))\n",
        "print(\"Length of each example: {}\".format(data['x'].shape[-1]))"
      ]
    },
    {
      "cell_type": "code",
      "execution_count": null,
      "metadata": {
        "id": "8bKADvLHbiV5"
      },
      "outputs": [
        {
          "name": "stdout",
          "output_type": "stream",
          "text": [
            "Train data: 4000 examples (columns), each of which has 40 dimensions (rows)\n",
            "Validation data: 1000 examples (columns), each of which has 40 dimensions (rows)\n"
          ]
        }
      ],
      "source": [
        "# Load in the data\n",
        "train_data_x = data['x'].transpose()\n",
        "train_data_y = data['y']\n",
        "val_data_x = data['x_test'].transpose()\n",
        "val_data_y = data['y_test']\n",
        "# Print out sizes\n",
        "print(\"Train data: %d examples (columns), each of which has %d dimensions (rows)\"%((train_data_x.shape[1],train_data_x.shape[0])))\n",
        "print(\"Validation data: %d examples (columns), each of which has %d dimensions (rows)\"%((val_data_x.shape[1],val_data_x.shape[0])))"
      ]
    },
    {
      "cell_type": "markdown",
      "metadata": {
        "id": "_sFvRDGrl4qe"
      },
      "source": [
        "Define the network"
      ]
    },
    {
      "cell_type": "code",
      "execution_count": 5,
      "metadata": {
        "id": "FslroPJJffrh"
      },
      "outputs": [],
      "source": [
        "# There are 40 input dimensions and 10 output dimensions for this data\n",
        "# The inputs correspond to the 40 offsets in the MNIST1D template.\n",
        "D_i = 40\n",
        "# The outputs correspond to the 10 digits\n",
        "D_o = 10\n",
        "\n",
        "\n",
        "# TODO✅ Create a model with the following layers\n",
        "# 1. Convolutional layer, (input=length 40 and 1 channel, kernel size 3, stride 2, padding=\"valid\", 15 output channels )\n",
        "# 2. ReLU\n",
        "# 3. Convolutional layer, (input=length 19 and 15 channels, kernel size 3, stride 2, padding=\"valid\", 15 output channels )\n",
        "# 4. ReLU\n",
        "# 5. Convolutional layer, (input=length 9 and 15 channels, kernel size 3, stride 2, padding=\"valid\", 15 output channels)\n",
        "# 6. ReLU\n",
        "# 7. Flatten (converts 4x15) to length 60\n",
        "# 8. Linear layer (input size = 60, output size = 10)\n",
        "# References:\n",
        "# https://pytorch.org/docs/1.13/generated/torch.nn.Conv1d.html?highlight=conv1d#torch.nn.Conv1d\n",
        "# https://pytorch.org/docs/stable/generated/torch.nn.Flatten.html\n",
        "# https://pytorch.org/docs/1.13/generated/torch.nn.Linear.html?highlight=linear#torch.nn.Linear\n",
        "\n",
        "# NOTE THAT THE CONVOLUTIONAL LAYERS NEED TO TAKE THE NUMBER OF INPUT CHANNELS AS A PARAMETER\n",
        "# AND NOT THE INPUT SIZE.\n",
        "\n",
        "# Replace the following function:\n",
        "# model = nn.Sequential(\n",
        "# nn.Flatten(),\n",
        "# nn.Linear(40, 100),\n",
        "# nn.ReLU(),\n",
        "# nn.Linear(100, 100),\n",
        "# nn.ReLU(),\n",
        "# nn.Linear(100, 10))\n",
        "\n",
        "model = nn.Sequential(\n",
        "    nn.Conv1d(in_channels=1, out_channels=15, kernel_size=3, stride=2, padding=\"valid\"),\n",
        "    nn.ReLU(),\n",
        "    nn.Conv1d(in_channels=15, out_channels=15, kernel_size=3, stride=2, padding=\"valid\"),\n",
        "    nn.ReLU(),\n",
        "    nn.Conv1d(in_channels=15, out_channels=15, kernel_size=3, stride=2, padding=\"valid\"),\n",
        "    nn.ReLU(),\n",
        "    nn.Flatten(),\n",
        "    nn.Linear(in_features=60, out_features=10)\n",
        ")\n",
        "\n"
      ]
    },
    {
      "cell_type": "code",
      "execution_count": 6,
      "metadata": {
        "id": "YgLaex1pfhqz"
      },
      "outputs": [],
      "source": [
        "# He initialization of weights\n",
        "def weights_init(layer_in):\n",
        "  if isinstance(layer_in, nn.Linear):\n",
        "    nn.init.kaiming_uniform_(layer_in.weight)\n",
        "    layer_in.bias.data.fill_(0.0)"
      ]
    },
    {
      "cell_type": "code",
      "execution_count": 7,
      "metadata": {
        "id": "NYw8I_3mmX5c"
      },
      "outputs": [
        {
          "name": "stdout",
          "output_type": "stream",
          "text": [
            "Epoch     0, train loss 2.132549, train error 80.57,  val loss 2.127859, percent error 80.40\n",
            "Epoch     1, train loss 1.645991, train error 67.22,  val loss 1.667126, percent error 71.50\n",
            "Epoch     2, train loss 1.380419, train error 57.05,  val loss 1.409089, percent error 59.40\n",
            "Epoch     3, train loss 1.289710, train error 50.90,  val loss 1.314267, percent error 54.00\n",
            "Epoch     4, train loss 1.174635, train error 48.17,  val loss 1.187758, percent error 49.60\n",
            "Epoch     5, train loss 1.052687, train error 42.55,  val loss 1.066025, percent error 44.00\n",
            "Epoch     6, train loss 0.933900, train error 36.75,  val loss 0.952435, percent error 37.30\n",
            "Epoch     7, train loss 0.846755, train error 32.30,  val loss 0.872062, percent error 34.80\n",
            "Epoch     8, train loss 0.713282, train error 27.82,  val loss 0.765872, percent error 30.10\n",
            "Epoch     9, train loss 0.681325, train error 27.45,  val loss 0.753385, percent error 28.00\n",
            "Epoch    10, train loss 0.704851, train error 26.47,  val loss 0.777792, percent error 29.60\n",
            "Epoch    11, train loss 0.590352, train error 22.95,  val loss 0.651531, percent error 24.90\n",
            "Epoch    12, train loss 0.554422, train error 21.32,  val loss 0.632092, percent error 23.70\n",
            "Epoch    13, train loss 0.559714, train error 21.93,  val loss 0.647093, percent error 26.30\n",
            "Epoch    14, train loss 0.563673, train error 22.53,  val loss 0.668297, percent error 26.20\n",
            "Epoch    15, train loss 0.424512, train error 15.75,  val loss 0.496276, percent error 19.60\n",
            "Epoch    16, train loss 0.402979, train error 15.43,  val loss 0.506128, percent error 18.90\n",
            "Epoch    17, train loss 0.370980, train error 13.75,  val loss 0.454118, percent error 16.90\n",
            "Epoch    18, train loss 0.389545, train error 14.07,  val loss 0.477412, percent error 17.00\n",
            "Epoch    19, train loss 0.335633, train error 12.30,  val loss 0.434291, percent error 16.00\n",
            "Epoch    20, train loss 0.255194, train error 8.97,  val loss 0.378191, percent error 13.60\n",
            "Epoch    21, train loss 0.261785, train error 9.25,  val loss 0.386802, percent error 12.20\n",
            "Epoch    22, train loss 0.237771, train error 8.03,  val loss 0.398753, percent error 12.80\n",
            "Epoch    23, train loss 0.225305, train error 7.88,  val loss 0.363191, percent error 11.80\n",
            "Epoch    24, train loss 0.211966, train error 7.75,  val loss 0.362755, percent error 11.00\n",
            "Epoch    25, train loss 0.202059, train error 7.18,  val loss 0.375472, percent error 12.90\n",
            "Epoch    26, train loss 0.188937, train error 6.72,  val loss 0.340061, percent error 10.60\n",
            "Epoch    27, train loss 0.171227, train error 6.03,  val loss 0.362452, percent error 12.00\n",
            "Epoch    28, train loss 0.186482, train error 6.72,  val loss 0.376741, percent error 11.80\n",
            "Epoch    29, train loss 0.187855, train error 6.80,  val loss 0.397551, percent error 13.20\n",
            "Epoch    30, train loss 0.146059, train error 5.00,  val loss 0.354444, percent error 11.50\n",
            "Epoch    31, train loss 0.144434, train error 4.93,  val loss 0.352177, percent error 10.80\n",
            "Epoch    32, train loss 0.144664, train error 4.78,  val loss 0.333136, percent error 11.50\n",
            "Epoch    33, train loss 0.167816, train error 5.90,  val loss 0.400955, percent error 11.90\n",
            "Epoch    34, train loss 0.140283, train error 4.75,  val loss 0.377236, percent error 11.30\n",
            "Epoch    35, train loss 0.124431, train error 4.10,  val loss 0.371980, percent error 10.60\n",
            "Epoch    36, train loss 0.113704, train error 3.93,  val loss 0.361441, percent error 10.40\n",
            "Epoch    37, train loss 0.113304, train error 3.85,  val loss 0.370596, percent error 10.00\n",
            "Epoch    38, train loss 0.099362, train error 3.30,  val loss 0.363357, percent error 10.30\n",
            "Epoch    39, train loss 0.092540, train error 2.88,  val loss 0.347204, percent error 10.00\n",
            "Epoch    40, train loss 0.098525, train error 3.38,  val loss 0.364505, percent error 9.40\n",
            "Epoch    41, train loss 0.083701, train error 2.50,  val loss 0.347959, percent error 9.20\n",
            "Epoch    42, train loss 0.079526, train error 2.43,  val loss 0.342513, percent error 8.90\n",
            "Epoch    43, train loss 0.078311, train error 2.45,  val loss 0.361439, percent error 9.30\n",
            "Epoch    44, train loss 0.069881, train error 1.78,  val loss 0.341138, percent error 9.10\n",
            "Epoch    45, train loss 0.073179, train error 1.97,  val loss 0.357325, percent error 9.50\n",
            "Epoch    46, train loss 0.064104, train error 1.60,  val loss 0.344651, percent error 8.80\n",
            "Epoch    47, train loss 0.066566, train error 1.75,  val loss 0.358391, percent error 9.30\n",
            "Epoch    48, train loss 0.063089, train error 1.62,  val loss 0.350510, percent error 9.10\n",
            "Epoch    49, train loss 0.059757, train error 1.45,  val loss 0.353243, percent error 9.20\n",
            "Epoch    50, train loss 0.065355, train error 1.78,  val loss 0.373269, percent error 9.20\n",
            "Epoch    51, train loss 0.059511, train error 1.68,  val loss 0.370280, percent error 8.80\n",
            "Epoch    52, train loss 0.059058, train error 1.53,  val loss 0.386116, percent error 9.30\n",
            "Epoch    53, train loss 0.055509, train error 1.28,  val loss 0.379434, percent error 8.50\n",
            "Epoch    54, train loss 0.054802, train error 1.38,  val loss 0.373516, percent error 9.20\n",
            "Epoch    55, train loss 0.055932, train error 1.30,  val loss 0.368030, percent error 9.00\n",
            "Epoch    56, train loss 0.050735, train error 1.20,  val loss 0.368223, percent error 9.10\n",
            "Epoch    57, train loss 0.054224, train error 1.40,  val loss 0.383470, percent error 9.50\n",
            "Epoch    58, train loss 0.052719, train error 1.43,  val loss 0.378107, percent error 9.20\n",
            "Epoch    59, train loss 0.049689, train error 1.12,  val loss 0.387336, percent error 9.50\n",
            "Epoch    60, train loss 0.044184, train error 0.72,  val loss 0.386562, percent error 9.10\n",
            "Epoch    61, train loss 0.043541, train error 0.78,  val loss 0.380677, percent error 8.80\n",
            "Epoch    62, train loss 0.042718, train error 0.78,  val loss 0.387526, percent error 8.70\n",
            "Epoch    63, train loss 0.042257, train error 0.78,  val loss 0.389325, percent error 8.70\n",
            "Epoch    64, train loss 0.044168, train error 1.00,  val loss 0.398047, percent error 9.10\n",
            "Epoch    65, train loss 0.044465, train error 0.88,  val loss 0.404467, percent error 9.50\n",
            "Epoch    66, train loss 0.040534, train error 0.68,  val loss 0.384676, percent error 8.50\n",
            "Epoch    67, train loss 0.040031, train error 0.68,  val loss 0.389687, percent error 8.90\n",
            "Epoch    68, train loss 0.039107, train error 0.70,  val loss 0.395359, percent error 8.70\n",
            "Epoch    69, train loss 0.038776, train error 0.78,  val loss 0.388576, percent error 8.80\n",
            "Epoch    70, train loss 0.038509, train error 0.55,  val loss 0.393305, percent error 8.20\n",
            "Epoch    71, train loss 0.038336, train error 0.72,  val loss 0.396373, percent error 8.70\n",
            "Epoch    72, train loss 0.037500, train error 0.65,  val loss 0.393344, percent error 8.90\n",
            "Epoch    73, train loss 0.036618, train error 0.57,  val loss 0.395972, percent error 8.80\n",
            "Epoch    74, train loss 0.036780, train error 0.62,  val loss 0.407187, percent error 9.00\n",
            "Epoch    75, train loss 0.036519, train error 0.62,  val loss 0.404430, percent error 8.50\n",
            "Epoch    76, train loss 0.035468, train error 0.57,  val loss 0.404362, percent error 8.90\n",
            "Epoch    77, train loss 0.034969, train error 0.55,  val loss 0.399116, percent error 9.00\n",
            "Epoch    78, train loss 0.035545, train error 0.55,  val loss 0.414293, percent error 8.90\n",
            "Epoch    79, train loss 0.037249, train error 0.60,  val loss 0.402364, percent error 8.70\n",
            "Epoch    80, train loss 0.034071, train error 0.50,  val loss 0.405318, percent error 8.50\n",
            "Epoch    81, train loss 0.033164, train error 0.45,  val loss 0.406837, percent error 8.40\n",
            "Epoch    82, train loss 0.033387, train error 0.50,  val loss 0.406818, percent error 8.90\n",
            "Epoch    83, train loss 0.032943, train error 0.45,  val loss 0.409360, percent error 8.70\n",
            "Epoch    84, train loss 0.033349, train error 0.55,  val loss 0.412026, percent error 8.70\n",
            "Epoch    85, train loss 0.032773, train error 0.53,  val loss 0.415726, percent error 8.90\n",
            "Epoch    86, train loss 0.032235, train error 0.47,  val loss 0.410641, percent error 8.60\n",
            "Epoch    87, train loss 0.031967, train error 0.47,  val loss 0.408321, percent error 8.80\n",
            "Epoch    88, train loss 0.032254, train error 0.40,  val loss 0.414736, percent error 8.90\n",
            "Epoch    89, train loss 0.031614, train error 0.45,  val loss 0.408360, percent error 8.60\n",
            "Epoch    90, train loss 0.031438, train error 0.43,  val loss 0.410267, percent error 8.70\n",
            "Epoch    91, train loss 0.031227, train error 0.43,  val loss 0.412313, percent error 8.60\n",
            "Epoch    92, train loss 0.031252, train error 0.43,  val loss 0.411297, percent error 8.80\n",
            "Epoch    93, train loss 0.031035, train error 0.43,  val loss 0.413637, percent error 8.50\n",
            "Epoch    94, train loss 0.031174, train error 0.43,  val loss 0.413519, percent error 8.80\n",
            "Epoch    95, train loss 0.030530, train error 0.43,  val loss 0.412753, percent error 8.60\n",
            "Epoch    96, train loss 0.030301, train error 0.45,  val loss 0.416477, percent error 8.60\n",
            "Epoch    97, train loss 0.030135, train error 0.43,  val loss 0.417970, percent error 8.70\n",
            "Epoch    98, train loss 0.030369, train error 0.43,  val loss 0.424980, percent error 8.80\n",
            "Epoch    99, train loss 0.029829, train error 0.45,  val loss 0.413507, percent error 8.70\n"
          ]
        },
        {
          "data": {
            "image/png": "[encoded data removed]",
            "text/plain": [
              "<Figure size 640x480 with 1 Axes>"
            ]
          },
          "metadata": {},
          "output_type": "display_data"
        }
      ],
      "source": [
        "# choose cross entropy loss function (equation 5.24 in the loss notes)\n",
        "loss_function = nn.CrossEntropyLoss()\n",
        "# construct SGD optimizer and initialize learning rate and momentum\n",
        "optimizer = torch.optim.SGD(model.parameters(), lr = 0.05, momentum=0.9)\n",
        "# object that decreases learning rate by half every 20 epochs\n",
        "scheduler = StepLR(optimizer, step_size=20, gamma=0.5)\n",
        "# create 100 dummy data points and store in data loader class\n",
        "x_train = torch.tensor(train_data_x.transpose().astype('float32'))\n",
        "y_train = torch.tensor(train_data_y.astype('long')).long()\n",
        "x_val= torch.tensor(val_data_x.transpose().astype('float32'))\n",
        "y_val = torch.tensor(val_data_y.astype('long')).long()\n",
        "\n",
        "# load the data into a class that creates the batches\n",
        "data_loader = DataLoader(TensorDataset(x_train,y_train), batch_size=100, shuffle=True, worker_init_fn=np.random.seed(1))\n",
        "\n",
        "# Initialize model weights\n",
        "model.apply(weights_init)\n",
        "\n",
        "# loop over the dataset n_epoch times\n",
        "n_epoch = 100\n",
        "# store the loss and the % correct at each epoch\n",
        "losses_train = np.zeros((n_epoch))\n",
        "errors_train = np.zeros((n_epoch))\n",
        "losses_val = np.zeros((n_epoch))\n",
        "errors_val = np.zeros((n_epoch))\n",
        "\n",
        "for epoch in range(n_epoch):\n",
        "  # loop over batches\n",
        "  for i, data in enumerate(data_loader):\n",
        "    # retrieve inputs and labels for this batch\n",
        "    x_batch, y_batch = data\n",
        "    # zero the parameter gradients\n",
        "    optimizer.zero_grad()\n",
        "    # forward pass -- calculate model output\n",
        "    pred = model(x_batch[:,None,:])\n",
        "    # compute the loss\n",
        "    loss = loss_function(pred, y_batch)\n",
        "    # backward pass\n",
        "    loss.backward()\n",
        "    # SGD update\n",
        "    optimizer.step()\n",
        "\n",
        "  # Run whole dataset to get statistics -- normally wouldn't do this\n",
        "  pred_train = model(x_train[:,None,:])\n",
        "  pred_val = model(x_val[:,None,:])\n",
        "  _, predicted_train_class = torch.max(pred_train.data, 1)\n",
        "  _, predicted_val_class = torch.max(pred_val.data, 1)\n",
        "  errors_train[epoch] = 100 - 100 * (predicted_train_class == y_train).float().sum() / len(y_train)\n",
        "  errors_val[epoch]= 100 - 100 * (predicted_val_class == y_val).float().sum() / len(y_val)\n",
        "  losses_train[epoch] = loss_function(pred_train, y_train).item()\n",
        "  losses_val[epoch]= loss_function(pred_val, y_val).item()\n",
        "  print(f'Epoch {epoch:5d}, train loss {losses_train[epoch]:.6f}, train error {errors_train[epoch]:3.2f},  val loss {losses_val[epoch]:.6f}, percent error {errors_val[epoch]:3.2f}')\n",
        "\n",
        "  # tell scheduler to consider updating learning rate\n",
        "  scheduler.step()\n",
        "\n",
        "# Plot the results\n",
        "fig, ax = plt.subplots()\n",
        "ax.plot(errors_train,'r-',label='train')\n",
        "ax.plot(errors_val,'b-',label='validation')\n",
        "ax.set_ylim(0,100); ax.set_xlim(0,n_epoch)\n",
        "ax.set_xlabel('Epoch'); ax.set_ylabel('Error')\n",
        "ax.set_title('Part I: Validation Result %3.2f'%(errors_val[-1]))\n",
        "ax.legend()\n",
        "plt.show()"
      ]
    }
  ],
  "metadata": {
    "colab": {
      "authorship_tag": "ABX9TyNb46PJB/CC1pcHGfjpUUZg",
      "include_colab_link": true,
      "provenance": []
    },
    "kernelspec": {
      "display_name": ".venv",
      "language": "python",
      "name": "python3"
    },
    "language_info": {
      "codemirror_mode": {
        "name": "ipython",
        "version": 3
      },
      "file_extension": ".py",
      "mimetype": "text/x-python",
      "name": "python",
      "nbconvert_exporter": "python",
      "pygments_lexer": "ipython3",
      "version": "3.12.1"
    }
  },
  "nbformat": 4,
  "nbformat_minor": 0
}
